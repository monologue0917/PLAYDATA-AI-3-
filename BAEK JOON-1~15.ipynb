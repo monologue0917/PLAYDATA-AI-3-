{
 "cells": [
  {
   "cell_type": "code",
   "execution_count": 3,
   "metadata": {},
   "outputs": [
    {
     "name": "stdout",
     "output_type": "stream",
     "text": [
      "Hello World!\n"
     ]
    }
   ],
   "source": [
    "#1\n",
    "print(\"Hello World!\")"
   ]
  },
  {
   "cell_type": "code",
   "execution_count": 5,
   "metadata": {},
   "outputs": [
    {
     "name": "stdout",
     "output_type": "stream",
     "text": [
      "강한친구 대한육군\n",
      "강한친구 대한육군\n"
     ]
    }
   ],
   "source": [
    "#2 \n",
    "#이스케이프 코드 사용\n",
    "#이스케이프 코드 (줄바꿈 = \\n)\n",
    "print(\"강한친구 대한육군\\n강한친구 대한육군\")"
   ]
  },
  {
   "cell_type": "code",
   "execution_count": 7,
   "metadata": {},
   "outputs": [
    {
     "name": "stdout",
     "output_type": "stream",
     "text": [
      "\\    /\\\n",
      " )  ( ')\n",
      "(  /  )\n",
      " \\(__)|\n"
     ]
    }
   ],
   "source": [
    "#3\n",
    "#이스케이프 코드 (문자\\ = \\\\) \n",
    "print(\"\\    /\\\\\")  # \\\" 앞에 \\를 붙여준다.\n",
    "print(\" )  ( ')\")\n",
    "print(\"(  /  )\")\n",
    "print(\" \\(__)|\")"
   ]
  },
  {
   "cell_type": "code",
   "execution_count": 11,
   "metadata": {},
   "outputs": [
    {
     "name": "stdout",
     "output_type": "stream",
     "text": [
      "|\\_/|\n",
      "|q p|   /}\n",
      "( 0 )\"\"\"\\\n",
      "|\"^\"`    |\n",
      "||_/=\\\\__|\n"
     ]
    }
   ],
   "source": [
    "#4\n",
    "#이스케이프 코드 (문자\\ = \\\\) \n",
    "# '\"' \"'\" \n",
    "print('|\\\\_/|')\n",
    "print('|q p|   /}')\n",
    "print('( 0 )\"\"\"\\\\')\n",
    "print('|\"^\"`    |')\n",
    "print('||_/=\\\\\\\\__|')"
   ]
  },
  {
   "cell_type": "code",
   "execution_count": 14,
   "metadata": {},
   "outputs": [
    {
     "name": "stdout",
     "output_type": "stream",
     "text": [
      "1 1\n",
      "2\n"
     ]
    }
   ],
   "source": [
    "#5\n",
    "a,b = input().split() #input으로받으면 문자열로받음\n",
    "a = int(a)   #그래서int로 변환 해주는거임\n",
    "b = int(b)\n",
    "print(a+b)"
   ]
  },
  {
   "cell_type": "code",
   "execution_count": null,
   "metadata": {},
   "outputs": [],
   "source": [
    "#6 \n",
    "#5번이랑 마찬가지\n",
    "a,b = input().split()\n",
    "a = int(a)\n",
    "b = int(b)\n",
    "print(a-b)"
   ]
  },
  {
   "cell_type": "code",
   "execution_count": null,
   "metadata": {},
   "outputs": [],
   "source": [
    "#7\n",
    "#5번이랑 마찬가지\n",
    "a,b = input().split()\n",
    "a = int(a)\n",
    "b = int(b)\n",
    "print(a*b)"
   ]
  },
  {
   "cell_type": "code",
   "execution_count": 15,
   "metadata": {},
   "outputs": [
    {
     "name": "stdout",
     "output_type": "stream",
     "text": [
      "1 1\n",
      "1.0\n"
     ]
    }
   ],
   "source": [
    "#8\n",
    "#5번이랑 마찬가지\n",
    "a,b = input().split()\n",
    "a = int(a)\n",
    "b = int(b)\n",
    "print(a/b)"
   ]
  },
  {
   "cell_type": "code",
   "execution_count": 16,
   "metadata": {},
   "outputs": [
    {
     "name": "stdout",
     "output_type": "stream",
     "text": [
      "3 4\n",
      "7\n",
      "-1\n",
      "12\n",
      "0\n",
      "3\n"
     ]
    }
   ],
   "source": [
    "#9\n",
    "A,B = map(int,input().split())\n",
    "print(A+B, A-B, A*B, A//B, A%B, sep='\\n')\n",
    "\n",
    "#print(A-B) 이렇게 해도 되지만 sep함수로 '\\n'값을 사이사이에 넣어 나오게함\n",
    "# input값 split으로 나누고 map함수로 int로 묶음\n",
    "#split 은 공백을 기준으로 나누는 함수임"
   ]
  },
  {
   "cell_type": "code",
   "execution_count": 18,
   "metadata": {},
   "outputs": [
    {
     "name": "stdout",
     "output_type": "stream",
     "text": [
      "3 4 1\n",
      "0\n",
      "0\n",
      "0\n",
      "0\n"
     ]
    }
   ],
   "source": [
    "#10\n",
    "\n",
    "A,B,C = map(int,input().split())\n",
    "\n",
    "print((A+B)%C, ((A%C)+(B%C))%C, (A*B)%C, ((A%C)*(B%C))%C, sep='\\n')"
   ]
  },
  {
   "cell_type": "code",
   "execution_count": 5,
   "metadata": {},
   "outputs": [
    {
     "name": "stdout",
     "output_type": "stream",
     "text": [
      "123\n",
      "234\n",
      "492\n",
      "369\n",
      "246\n",
      "28782\n"
     ]
    }
   ],
   "source": [
    "#11\n",
    "\n",
    "A = int(input()) \n",
    "B = input()   #문자열 인덱스를 통해 한자리씩 떼어냄 \n",
    "\n",
    "print(A*int(B[2]))\n",
    "print(A*int(B[1]))\n",
    "print(A*int(B[0]))\n",
    "print(A*int(B))"
   ]
  },
  {
   "cell_type": "code",
   "execution_count": null,
   "metadata": {},
   "outputs": [],
   "source": [
    "#12\n",
    "\n",
    "#A가 B보다 큰 경우에는 '>'를 출력한다. \n",
    "#A가 B보다 작은 경우에는 '<'를 출력한다.\n",
    "#A와 B가 같은 경우에는 '=='를 출력한다.\n",
    "\n",
    "A,B = map(int,input().split())\n",
    "\n",
    "if A>B:\n",
    "    print(\">\")  #(if 조건식이 참일 때)\n",
    "elif A<B:\n",
    "    print(\"<\")  #(if조건식이 참이 아닌경우 elif 조건식이 참일 때)\n",
    "else:\n",
    "    print(\"==\") #(위의 모든 조건이 참이 아닐 때)\n",
    "    \n",
    "#삼항연산자로 작성했을경우\n",
    "#print('>') if A > B else print('<') if A < B else print('==')"
   ]
  },
  {
   "cell_type": "code",
   "execution_count": 8,
   "metadata": {},
   "outputs": [
    {
     "name": "stdout",
     "output_type": "stream",
     "text": [
      "86\n",
      "B\n"
     ]
    }
   ],
   "source": [
    "#13\n",
    "a = int(input())\n",
    "\n",
    "if a>=90:           # 조건1\n",
    "    print(\"A\") # 조건1이 참인경우\n",
    "elif a>=80:        # 조건2\n",
    "    print(\"B\") # 조건2가 참인경우\n",
    "elif a>=70:        # 조건3\n",
    "    print(\"C\") # 조건3이 참인경우\n",
    "elif a>=60:        # 조건4\n",
    "    print(\"D\") # 조건4가 참인경우\n",
    "else:\n",
    "    print(\"F\") # 위 모든 조건이 거짓인 경우\n",
    "\n",
    "    \n",
    "#삼항연산자\n",
    "#print('A') if score >= 90 else print('B') if score >= 80 else print('C') if score >= 70 else print('D') if score >= 60 else print('F')"
   ]
  },
  {
   "cell_type": "code",
   "execution_count": 9,
   "metadata": {},
   "outputs": [
    {
     "name": "stdout",
     "output_type": "stream",
     "text": [
      "2014\n",
      "0\n"
     ]
    }
   ],
   "source": [
    "#14\n",
    "\n",
    "a = int(input())\n",
    "\n",
    "if ((a%4 ==0) and (a%100 != 0)) or (a%400 ==0):\n",
    "    print(\"1\")\n",
    "else:\n",
    "    print(\"0\")\n",
    "\n",
    "#삼항연산자    \n",
    "# year = int(input())\n",
    "\n",
    "# print('1') if ((year%4 == 0)and(year%100 != 0)) or (year%400 == 0) else print('0')"
   ]
  },
  {
   "cell_type": "code",
   "execution_count": 10,
   "metadata": {},
   "outputs": [
    {
     "name": "stdout",
     "output_type": "stream",
     "text": [
      "-18\n",
      "-19\n",
      "3\n"
     ]
    }
   ],
   "source": [
    "#15\n",
    "\n",
    "x = int(input())\n",
    "y = int(input())\n",
    "\n",
    "if (x>0) and (y>0):  # +,+ 1분면\n",
    "    print(\"1\")\n",
    "elif (x<0) and (y>0):  # -,+ 2분면\n",
    "    print(\"2\")\n",
    "elif (x<0) and (y<0):  # -,- 3분면\n",
    "    print(\"3\")\n",
    "else:                  # 남은 +, - 4분면\n",
    "    print(\"4\")"
   ]
  },
  {
   "cell_type": "code",
   "execution_count": null,
   "metadata": {},
   "outputs": [],
   "source": []
  }
 ],
 "metadata": {
  "kernelspec": {
   "display_name": "Python 3",
   "language": "python",
   "name": "python3"
  },
  "language_info": {
   "codemirror_mode": {
    "name": "ipython",
    "version": 3
   },
   "file_extension": ".py",
   "mimetype": "text/x-python",
   "name": "python",
   "nbconvert_exporter": "python",
   "pygments_lexer": "ipython3",
   "version": "3.8.5"
  }
 },
 "nbformat": 4,
 "nbformat_minor": 4
}
